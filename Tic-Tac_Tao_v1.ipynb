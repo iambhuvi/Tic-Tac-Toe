{
 "cells": [
  {
   "cell_type": "code",
   "execution_count": 123,
   "metadata": {
    "collapsed": true
   },
   "outputs": [],
   "source": [
    "#Global DataStructures\n",
    "#a dictionary to keep record of moves performed by player_1 and player_2\n",
    "players_move={'player_1':[],'player_2':[]}\n",
    "remaining_chances={'p1':5,'p2':4}\n",
    "board=['','','','','','','','','']\n",
    "#to print first time as our board print depends on the entires in the player_move and\n",
    "# player_move will be empty intially hence no board get printes. so, we are using one time manual printig to print out board\n",
    "inital_board_print=1"
   ]
  },
  {
   "cell_type": "code",
   "execution_count": 124,
   "metadata": {
    "collapsed": true
   },
   "outputs": [],
   "source": [
    "def inital():\n",
    "    #To display intial greeting and clear the datastructures\n",
    "    print \"Playing Board Has Counting From [0-8]\\n\"\n",
    "    clr()"
   ]
  },
  {
   "cell_type": "code",
   "execution_count": 125,
   "metadata": {
    "collapsed": true
   },
   "outputs": [],
   "source": [
    "def start():\n",
    "    global players_move,remaining_chances\n",
    "    inital()\n",
    "    print_player_move()\n",
    "    #current_chance=0  means player1 has chance otherwise player2\n",
    "    current_chance=0\n",
    "    \n",
    "    while remaining_chances['p1']>0 or remaining_chances['p2']>0:\n",
    "        #variables for sending moves to tto_input\n",
    "        \n",
    "        if current_chance==0 and remaining_chances['p1']>0:\n",
    "            \n",
    "            input_move1=input('Enter your move player 1\\t')\n",
    "            \n",
    "            #Checking if user has inputed correctly\n",
    "            if type(input_move1)!=int:\n",
    "                print 'illegal input! Please enter a interger number only'.title() \n",
    "                continue\n",
    "            \n",
    "            #taking return of tto_input as string to check for illegal move condtion\n",
    "            ret_stm1=str(tto_input(input_move1,'p1'))\n",
    "            \n",
    "            if'illegal move'== ret_stm1:\n",
    "                print_player_move()\n",
    "                print ret_stm1\n",
    "                \n",
    "            elif 'This game won by: p1'==ret_stm1:\n",
    "                    print_player_move()\n",
    "                    print ret_stm1\n",
    "                    break\n",
    "            else :\n",
    "              #  print 'ret_stm1 is {x}'.format(x=ret_stm1)\n",
    "                current_chance=1\n",
    "                remaining_chances['p1']-=1\n",
    "                print_player_move()\n",
    "                print 'chances remaining for p1: {x}\\n'.format(x=remaining_chances['p1']).title()\n",
    "                \n",
    "        \n",
    "        elif current_chance==1 and remaining_chances['p2']>0:\n",
    "            \n",
    "            input_move2=input('Enter your move player 2\\t')\n",
    "            \n",
    "            #Checking if user has inputed correctly\n",
    "            if type(input_move2)!=int:\n",
    "                print 'illegal input! Please enter a interger number only'.title() \n",
    "                continue\n",
    "            \n",
    "            #taking return of tto_input as string to check for illegal move condtion\n",
    "            ret_stm2=str(tto_input(input_move2,'p2'))\n",
    "            \n",
    "            if 'illegal move'== ret_stm2:\n",
    "                print_player_move()\n",
    "                print ret_stm2\n",
    "            elif 'This game won by: p2'==ret_stm2:\n",
    "                    print_player_move()\n",
    "                    print ret_stm2\n",
    "                    break\n",
    "\n",
    "            else :\n",
    "                #print 'ret_stm2 is {x}'.format(x=ret_stm2)\n",
    "                current_chance=0\n",
    "                remaining_chances['p2']-=1\n",
    "                print_player_move()\n",
    "                print 'chances remaining for p2: {x}\\n'.format(x=remaining_chances['p2'])\n",
    "\n",
    "            \n",
    "        else :\n",
    "            \n",
    "            print \"In else of start()\"\n",
    "            break"
   ]
  },
  {
   "cell_type": "code",
   "execution_count": 126,
   "metadata": {
    "collapsed": true
   },
   "outputs": [],
   "source": [
    "def tto_input(move_in,player_id):\n",
    "    global players_move,remaining_chances\n",
    "    #to check if move is out of range of the board\n",
    "    if  move_in in range(0,9):\n",
    "        pass\n",
    "    else :\n",
    "        return 'illegal move'\n",
    "    \n",
    "     #to check if the given move is already been present in previously given inputs\n",
    "    if players_move['player_1'].count(move_in) or players_move['player_2'].count(move_in):\n",
    "        return 'illegal move'\n",
    "    \n",
    "        \n",
    "    if player_id=='p1':                                              \n",
    "        players_move['player_1'].append(move_in)          \n",
    "        return check_win(players_move['player_1'],player_id)       #sending update moves of player_1 to check_win\n",
    "    elif player_id=='p2':\n",
    "        players_move['player_2'].append(move_in)\n",
    "        return check_win(players_move['player_2'],player_id)       #sending update moves of player_1 to check_win\n",
    "    else:\n",
    "        return 'Enter correct player id'\n",
    "\n",
    "  "
   ]
  },
  {
   "cell_type": "code",
   "execution_count": 127,
   "metadata": {
    "collapsed": true
   },
   "outputs": [],
   "source": [
    "def check_win(l,player_id):\n",
    "    import itertools as it\n",
    "\n",
    "    #win moves, created as tuples so that can't be modifed during program run.\n",
    "    win_set=([0,1,2],[3,4,5],[6,7,8],[0,3,6],[1,4,7],[2,5,8],[0,4,8],[2,4,6])  \n",
    "    \n",
    "    #To generate all possible size 3 permutation from player_move\n",
    "    temp_perm_list=list(it.permutations(l,3))\n",
    "    \n",
    "    #checking if any of the permuation matches with the win_set element\n",
    "    for element in win_set:\n",
    "        for element_in_temp_perm_list in temp_perm_list:\n",
    "            if set(element_in_temp_perm_list)==set(element): #Checking by making a set out of l, just used to sort the 'l' list an to type cast into set as to sort and not to modify the orginal list 'l\n",
    "                return 'This game won by: {x}'.format(x=player_id)\n",
    "            \n",
    "            \n",
    "    if len(l)==5 and player_id=='p1':\n",
    "        print 'NO ONE WON THIS GAME!!'\n",
    "           \n",
    "    else:\n",
    "       # print \"IN check_win else\"\n",
    "      pass"
   ]
  },
  {
   "cell_type": "code",
   "execution_count": 128,
   "metadata": {},
   "outputs": [],
   "source": [
    "def clr(): \n",
    "    #To clear all inputs\n",
    "    global players_move,remaining_chances,inital_board_print\n",
    "    inital_board_print=1\n",
    "    players_move['player_1']=[] \n",
    "   # print players_move['player_1']\n",
    "    players_move['player_2']=[] \n",
    "   # print players_move['player_2']\n",
    "    \n",
    "    remaining_chances['p1']=5\n",
    "    remaining_chances['p2']=4\n",
    "    \n",
    "    global board\n",
    "    board=['','','','','','','','','']\n",
    "    print 'all previuously given Entries have been cleared'.title()"
   ]
  },
  {
   "cell_type": "code",
   "execution_count": 129,
   "metadata": {
    "collapsed": true
   },
   "outputs": [],
   "source": [
    "def print_player_move():\n",
    "    #just for debugging\n",
    "   # print players_move['player_1']\n",
    "    #print players_move['player_2']\n",
    "    \n",
    "    #to print first time as our board print depends on the entires in the player_move and\n",
    "# player_move will be empty intially hence no board get printes. so, we are using one time manual printig to print out board\n",
    "    global inital_board_print\n",
    "    if inital_board_print==1:\n",
    "        inital_board_print=0\n",
    "        show_board(0,'')\n",
    "        \n",
    "    for element_in_player1 in players_move['player_1']:\n",
    "        show_board(element_in_player1,'X')\n",
    "    for element_in_player2 in players_move['player_2']:\n",
    "        show_board(element_in_player2,'O')\n",
    "    "
   ]
  },
  {
   "cell_type": "code",
   "execution_count": 130,
   "metadata": {},
   "outputs": [],
   "source": [
    "import os\n",
    "def show_board(element,mark):\n",
    "    global board\n",
    "    os.system('clear')\n",
    "    board[element]=mark\n",
    "    print ('-------------------------------------------------')\n",
    "    print ('|\\t'+str(board[0])+'\\t|\\t'+str(board[1])+'\\t|\\t'+str(board[2])+'\\t|\\t')\n",
    "    print ('-------------------------------------------------')\n",
    "    print ('|\\t'+str(board[3])+'\\t|\\t'+str(board[4])+'\\t|\\t'+str(board[5])+'\\t|\\t')\n",
    "    print ('-------------------------------------------------')\n",
    "    print ('|\\t'+str(board[6])+'\\t|\\t'+str(board[7])+'\\t|\\t'+str(board[8])+'\\t|\\t')\n",
    "    print ('-------------------------------------------------')\n",
    "    "
   ]
  },
  {
   "cell_type": "code",
   "execution_count": 131,
   "metadata": {},
   "outputs": [],
   "source": [
    "def play():\n",
    "    \n",
    "        start()\n",
    "        \n",
    "        while True:\n",
    "            play_in=raw_input(\"Do you want to play again !!!. enter Y/N\".title())\n",
    "            if play_in=='Y' or play_in=='y' or play_in=='yes':\n",
    "                start()\n",
    "            elif play_in=='N' or play_in=='n' or play_in=='no':\n",
    "                break\n",
    "        print \"Thank for playing !!\".upper()\n",
    "            \n",
    "        "
   ]
  },
  {
   "cell_type": "markdown",
   "metadata": {},
   "source": [
    "Start Your Game."
   ]
  },
  {
   "cell_type": "code",
   "execution_count": null,
   "metadata": {
    "collapsed": true
   },
   "outputs": [],
   "source": [
    "play()"
   ]
  }
 ],
 "metadata": {
  "kernelspec": {
   "display_name": "Python 2",
   "language": "python",
   "name": "python2"
  },
  "language_info": {
   "codemirror_mode": {
    "name": "ipython",
    "version": 2
   },
   "file_extension": ".py",
   "mimetype": "text/x-python",
   "name": "python",
   "nbconvert_exporter": "python",
   "pygments_lexer": "ipython2",
   "version": "2.7.14"
  }
 },
 "nbformat": 4,
 "nbformat_minor": 2
}
